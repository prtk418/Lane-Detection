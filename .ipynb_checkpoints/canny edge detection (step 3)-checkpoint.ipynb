{
 "cells": [
  {
   "cell_type": "code",
   "execution_count": 1,
   "metadata": {},
   "outputs": [],
   "source": [
    "import cv2"
   ]
  },
  {
   "cell_type": "code",
   "execution_count": null,
   "metadata": {},
   "outputs": [],
   "source": [
    "#read input video\n",
    "cap = cv2.VideoCapture('data/input.mp4')\n",
    "\n",
    "fourcc = cv2.cv.CV_FOURCC(*'XVID')\n",
    "\n",
    "out = cv2.VideoWriter('data/output_vid.avi',fourcc, 30.0,(int(cap.get(3)),int(cap.get(4))),False)"
   ]
  },
  {
   "cell_type": "code",
   "execution_count": null,
   "metadata": {},
   "outputs": [],
   "source": [
    "#apply filtering/blurring and then convert to grayscale\n",
    "while(cap.isOpened()):\n",
    "    ret, frame = cap.read()\n",
    "    \n",
    "    #apply Gaussian Smoothing (Gaussian Blur)\n",
    "    \n",
    "    #edge detection job here(experiment with lower and upper threshold values)[1:3 ratio can be a good measure]\n",
    "       \n",
    "    \n",
    "    out.write(edges)    \n",
    "    if ret==True:\n",
    "        cv2.imshow('frame',edges)\n",
    "        if cv2.waitKey(1) & 0xFF == ord('q'):\n",
    "            break\n",
    "    else:\n",
    "        break"
   ]
  },
  {
   "cell_type": "code",
   "execution_count": null,
   "metadata": {},
   "outputs": [],
   "source": [
    "# Release everything if job is finished\n",
    "cap.release()\n",
    "out.release()\n",
    "cv2.destroyAllWindows()"
   ]
  }
 ],
 "metadata": {
  "kernelspec": {
   "display_name": "Python 2",
   "language": "python",
   "name": "python2"
  },
  "language_info": {
   "codemirror_mode": {
    "name": "ipython",
    "version": 2
   },
   "file_extension": ".py",
   "mimetype": "text/x-python",
   "name": "python",
   "nbconvert_exporter": "python",
   "pygments_lexer": "ipython2",
   "version": "2.7.12"
  }
 },
 "nbformat": 4,
 "nbformat_minor": 2
}
